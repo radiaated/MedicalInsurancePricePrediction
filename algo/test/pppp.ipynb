{
 "cells": [
  {
   "cell_type": "code",
   "execution_count": 60,
   "metadata": {},
   "outputs": [],
   "source": [
    "import pandas as pd\n",
    "from sklearn.ensemble import GradientBoostingClassifier, GradientBoostingRegressor\n",
    "from sklearn.model_selection import train_test_split"
   ]
  },
  {
   "cell_type": "code",
   "execution_count": 34,
   "metadata": {},
   "outputs": [],
   "source": [
    "train_data = pd.read_csv(\"./train1.csv\")\n",
    "test_data = pd.read_csv(\"./test1.csv\")\n",
    "\n",
    "train_data = pd.get_dummies(train_data, columns=[\"gender\",\"age\",\"smoker\", \"region\", \"medical_history\",\"family_medical_history\", \"exercise_frequency\", \"occupation\",\"bmi\"])\n",
    "test_data = pd.get_dummies(test_data, columns=[\"gender\",\"age\",\"smoker\", \"region\", \"medical_history\",\"family_medical_history\", \"exercise_frequency\", \"occupation\",\"bmi\"])\n",
    "\n",
    "x_train = train_data.drop(columns=\"coverage_level\")\n",
    "y_train = train_data[\"coverage_level\"]\n",
    "\n",
    "x_test = test_data.drop(columns=\"coverage_level\")\n",
    "y_test = test_data[\"coverage_level\"]\n",
    "\n"
   ]
  },
  {
   "cell_type": "code",
   "execution_count": 41,
   "metadata": {},
   "outputs": [
    {
     "name": "stdout",
     "output_type": "stream",
     "text": [
      "Accuracy score (training): 0.928\n",
      "Accuracy score (validation): 0.850\n"
     ]
    }
   ],
   "source": [
    "\n",
    "gb_clf = GradientBoostingClassifier(n_estimators=100, learning_rate=0.05, max_features=25, max_depth=5)\n",
    "gb_clf.fit(x_train, y_train)\n",
    "print(\"Accuracy score (training): {0:.3f}\".format(gb_clf.score(x_train, y_train)))\n",
    "print(\"Accuracy score (validation): {0:.3f}\".format(gb_clf.score(x_test, y_test)))"
   ]
  },
  {
   "cell_type": "code",
   "execution_count": 26,
   "metadata": {},
   "outputs": [
    {
     "name": "stdout",
     "output_type": "stream",
     "text": [
      "Accuracy score (training): 0.468\n",
      "Accuracy score (validation): 0.326\n"
     ]
    }
   ],
   "source": [
    "print(\"Accuracy score (training): {0:.3f}\".format(gb_clf.score(x_train, y_train)))\n",
    "print(\"Accuracy score (validation): {0:.3f}\".format(gb_clf.score(x_test, y_test)))"
   ]
  },
  {
   "cell_type": "code",
   "execution_count": 42,
   "metadata": {},
   "outputs": [
    {
     "name": "stdout",
     "output_type": "stream",
     "text": [
      "[[0.03540903 0.71090475 0.25368622]\n",
      " [0.0380837  0.71097425 0.25094205]\n",
      " [0.06913287 0.53512555 0.39574157]\n",
      " [0.03964044 0.84494659 0.11541297]\n",
      " [0.65690665 0.01785013 0.32524321]]\n"
     ]
    }
   ],
   "source": [
    "y_probabilities = gb_clf.predict_proba(x_test)\n",
    "\n",
    "# The probabilities for each class for the first few samples in the test set\n",
    "print(y_probabilities[:5])"
   ]
  },
  {
   "cell_type": "code",
   "execution_count": null,
   "metadata": {},
   "outputs": [],
   "source": [
    "pd.set_option('display.max_rows', None)\n",
    "dff = pd.read_csv(\"df_cleaned2.csv\")\n",
    "contingency_table = pd.crosstab(dff['charges'], dff['coverage_level'])\n",
    "contingency_table\n"
   ]
  },
  {
   "cell_type": "code",
   "execution_count": 131,
   "metadata": {},
   "outputs": [
    {
     "data": {
      "text/plain": [
       "10"
      ]
     },
     "execution_count": 131,
     "metadata": {},
     "output_type": "execute_result"
    }
   ],
   "source": [
    "train_data = pd.read_csv(\"./train1.csv\")\n",
    "test_data = pd.read_csv(\"./test1.csv\")\n",
    "\n",
    "\n",
    "\n",
    "\n",
    "train_data['gender']=train_data['gender'].map({'male':0,'female':1})\n",
    "train_data['smoker']=train_data['smoker'].map({'yes':1,'no':0})\n",
    "train_data['region']=train_data['region'].map({'northwest':0, 'northeast':1,'southeast':2,'southwest':3})\n",
    "train_data['age']=train_data['age'].map({'26-41': 0, '41-56': 1, '>56': 2, '18-26': 3})\n",
    "train_data['medical_history']=train_data['medical_history'].map({'Diabetes':0, 'High blood pressure':1, 'Heart disease':2})\n",
    "train_data['family_medical_history']=train_data['family_medical_history'].map({'Diabetes':0, 'High blood pressure':1, 'Heart disease':2})\n",
    "train_data['exercise_frequency']=train_data['exercise_frequency'].map({'Frequently': 0, 'Rarely': 1, 'Occasionally': 2, 'Never': 3})\n",
    "train_data['occupation']=train_data['occupation'].map({'White collar': 0, 'Blue collar': 1, 'Student': 2, 'Unemployed': 3})\n",
    "train_data['bmi']=train_data['bmi'].map({'35 - 40': 0, '25 - 30': 1, '40 - 54': 2, '30 - 35': 3, '18.5 - 25': 4, '< 18.5': 5})\n",
    "\n",
    "test_data['gender']=test_data['gender'].map({'male':0,'female':1})\n",
    "test_data['smoker']=test_data['smoker'].map({'yes':1,'no':0})\n",
    "test_data['region']=test_data['region'].map({'northwest':0, 'northeast':1,'southeast':2,'southwest':3})\n",
    "test_data['age']=test_data['age'].map({'26-41': 0, '41-56': 1, '>56': 2, '18-26': 3})\n",
    "test_data['medical_history']=test_data['medical_history'].map({'Diabetes':0, 'High blood pressure':1, 'Heart disease':2})\n",
    "test_data['family_medical_history']=test_data['family_medical_history'].map({'Diabetes':0, 'High blood pressure':1, 'Heart disease':2})\n",
    "test_data['exercise_frequency']=test_data['exercise_frequency'].map({'Frequently': 0, 'Rarely': 1, 'Occasionally': 2, 'Never': 3})\n",
    "test_data['occupation']=test_data['occupation'].map({'White collar': 0, 'Blue collar': 1, 'Student': 2, 'Unemployed': 3})\n",
    "test_data['bmi']=test_data['bmi'].map({'35 - 40': 0, '25 - 30': 1, '40 - 54': 2, '30 - 35': 3, '18.5 - 25': 4, '< 18.5': 5})\n",
    "\n",
    "\n",
    "# train_data = pd.get_dummies(train_data, columns=[\"gender\",\"age\",\"smoker\", \"region\", \"medical_history\",\"family_medical_history\", \"exercise_frequency\", \"occupation\",\"bmi\"])\n",
    "# test_data = pd.get_dummies(test_data, columns=[\"gender\",\"age\",\"smoker\", \"region\",\"medical_history\",\"family_medical_history\", \"exercise_frequency\", \"occupation\",\"bmi\"])\n",
    "\n",
    "\n",
    "x_train = train_data.drop(columns=[\"coverage_level\", \"charges\"])\n",
    "y_train = train_data[\"charges\"]\n",
    "\n",
    "x_test = test_data.drop(columns=[\"coverage_level\", \"charges\"])\n",
    "y_test = test_data[\"charges\"]\n",
    "\n",
    "len(x_train.keys())\n",
    "\n",
    "\n"
   ]
  },
  {
   "cell_type": "code",
   "execution_count": 141,
   "metadata": {},
   "outputs": [
    {
     "name": "stdout",
     "output_type": "stream",
     "text": [
      "Accuracy score (training): 0.865\n",
      "Accuracy score (validation): 0.718\n"
     ]
    }
   ],
   "source": [
    "\n",
    "gb_clf = GradientBoostingRegressor(n_estimators=100, learning_rate=0.5, max_features=10, max_depth=5)\n",
    "gb_clf.fit(x_train, y_train)\n",
    "print(\"Accuracy score (training): {0:.3f}\".format(gb_clf.score(x_train, y_train)))\n",
    "print(\"Accuracy score (validation): {0:.3f}\".format(gb_clf.score(x_test, y_test)))"
   ]
  },
  {
   "cell_type": "code",
   "execution_count": null,
   "metadata": {},
   "outputs": [],
   "source": []
  }
 ],
 "metadata": {
  "kernelspec": {
   "display_name": "penv",
   "language": "python",
   "name": "python3"
  },
  "language_info": {
   "codemirror_mode": {
    "name": "ipython",
    "version": 3
   },
   "file_extension": ".py",
   "mimetype": "text/x-python",
   "name": "python",
   "nbconvert_exporter": "python",
   "pygments_lexer": "ipython3",
   "version": "3.10.12"
  }
 },
 "nbformat": 4,
 "nbformat_minor": 2
}
