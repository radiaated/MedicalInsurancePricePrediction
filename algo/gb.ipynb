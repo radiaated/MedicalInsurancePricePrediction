{
 "cells": [
  {
   "cell_type": "code",
   "execution_count": 2,
   "metadata": {},
   "outputs": [],
   "source": [
    "import pandas as pd\n",
    "from ID3 import ID3\n",
    "from trees.trees import *\n",
    "\n",
    "df = pd.read_csv(\"./fake_ds.csv\")\n",
    "\n",
    "\n",
    "# def gb(df, op):\n",
    "\n",
    "#     tmp_df = df.copy()\n",
    "\n",
    "\n",
    "#     for resi in range(10):\n",
    "\n",
    "#         mean_y = tmp_df[op].mean()\n",
    "#         for i in tmp_df.index:\n",
    "#             tmp_df[f\"Residual_{resi}\"] = tmp_df[op] - mean_y\n",
    "\n",
    "#         tmp_df.drop(columns=op, inplace=True)\n",
    "\n",
    "#         tree = ID3(tmp_df, f\"Residual_{resi}\")\n",
    "\n",
    "#         tree.build_tree()\n",
    "#         tree.show_tree()\n",
    "#         tree.create_tree(f\"tree_{resi}\")\n",
    "\n",
    "#         for i in tmp_df.index:\n",
    "#             tmp_df.loc[i, op] = 0.1 * tree_list[resi](tmp_df.loc[i].to_dict()) + mean_y\n",
    "\n",
    "#         print(f\"Tree {resi} Completed\")\n",
    "\n",
    "        \n",
    "\n",
    "\n",
    "# gb(df, \"HoursPlayed\")\n",
    "\n",
    "df[\"hello\"] = 6\n",
    "df\n",
    "\n",
    "\n",
    "\n",
    "\n",
    "\n"
   ]
  }
 ],
 "metadata": {
  "kernelspec": {
   "display_name": "Python 3",
   "language": "python",
   "name": "python3"
  },
  "language_info": {
   "codemirror_mode": {
    "name": "ipython",
    "version": 3
   },
   "file_extension": ".py",
   "mimetype": "text/x-python",
   "name": "python",
   "nbconvert_exporter": "python",
   "pygments_lexer": "ipython3",
   "version": "3.10.12"
  }
 },
 "nbformat": 4,
 "nbformat_minor": 2
}
