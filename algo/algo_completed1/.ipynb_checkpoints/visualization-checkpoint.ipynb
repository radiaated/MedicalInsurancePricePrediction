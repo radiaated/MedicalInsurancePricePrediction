{
 "cells": [
  {
   "cell_type": "code",
   "execution_count": 2,
   "metadata": {},
   "outputs": [
    {
     "name": "stdout",
     "output_type": "stream",
     "text": [
      "Fold size:  1346\n",
      "Fold:  5\n",
      "Test:  0 1346\n",
      "Train:  1346 2692\n",
      "Train:  2692 4038\n",
      "Train:  4038 5384\n",
      "Train:  5384 6730\n"
     ]
    }
   ],
   "source": [
    "import pandas as pd\n",
    "\n",
    "OUTPUT_COL = \"charges\"\n",
    "L_R = 0.55\n",
    "EST = 50\n",
    "\n",
    "df = pd.read_csv(\"./csv/test.csv\")\n",
    "\n",
    "df.drop(columns=\"package\", inplace=True)\n",
    "\n",
    "\n",
    "# train, test = train_test_split(df, test_size=0.2, random_state=1)\n",
    "\n",
    "fold_size = int(0.2 * len(df))\n",
    "print(\"Fold size: \", fold_size)\n",
    "fold = int(len(df) / fold_size)\n",
    "print(\"Fold: \", fold)\n",
    "\n",
    "\n",
    "train = pd.DataFrame()\n",
    "test = pd.DataFrame()\n",
    "start_i = 0\n",
    "end_i = start_i + fold_size\n",
    "test = df.loc[start_i:end_i]\n",
    "print(\"Test: \", start_i, end_i)\n",
    "for kf2 in range(fold):\n",
    "    if not kf2 * fold_size in range(start_i, end_i):\n",
    "        print(\"Train: \", kf2 * fold_size, kf2 * fold_size + fold_size)\n",
    "        train = pd.concat([train, df.loc[kf2 * fold_size: kf2 * fold_size + fold_size - 1]], ignore_index=False, axis=0)\n",
    "\n",
    "\n"
   ]
  },
  {
   "cell_type": "code",
   "execution_count": null,
   "metadata": {},
   "outputs": [],
   "source": [
    "\n",
    "print(\"Mean: eheh: \", train[\"charges\"].mean())\n",
    "\n",
    "gb_obj = GB(train, OUTPUT_COL, L_R, EST)\n",
    "\n",
    "gb_obj.train()\n",
    "\n",
    "predicted_result = predictor(test, L_R, train[OUTPUT_COL].mean(), EST)\n",
    "predicted_result2 = predictor(train, L_R, train[OUTPUT_COL].mean(), EST)"
   ]
  },
  {
   "cell_type": "code",
   "execution_count": null,
   "metadata": {},
   "outputs": [],
   "source": [
    "import matplotlib.pyplot as plt\n",
    "\n",
    "# Example data\n",
    "x = [1, 2, 3, 4, 5]\n",
    "y1 = [10, 15, 20, 25, 30]\n",
    "y2 = [5, 10, 15, 20, 25]\n",
    "\n",
    "# Plotting\n",
    "plt.plot(x, y1, label='Value1')\n",
    "plt.plot(x, y2, label='Value2')\n",
    "\n",
    "# Adding labels and title\n",
    "plt.xlabel('X Axis')\n",
    "plt.ylabel('Y Axis')\n",
    "plt.title('Line Plot between Value1 and Value2')\n",
    "\n",
    "# Adding legend\n",
    "plt.legend()\n",
    "\n",
    "# Display plot\n",
    "plt.show()\n"
   ]
  }
 ],
 "metadata": {
  "kernelspec": {
   "display_name": "Python 3 (ipykernel)",
   "language": "python",
   "name": "python3"
  },
  "language_info": {
   "codemirror_mode": {
    "name": "ipython",
    "version": 3
   },
   "file_extension": ".py",
   "mimetype": "text/x-python",
   "name": "python",
   "nbconvert_exporter": "python",
   "pygments_lexer": "ipython3",
   "version": "3.10.12"
  }
 },
 "nbformat": 4,
 "nbformat_minor": 4
}
