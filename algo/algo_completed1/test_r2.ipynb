{
 "cells": [
  {
   "cell_type": "code",
   "execution_count": 1,
   "id": "7fda9b1b-2846-4469-b0bd-629cb1a01297",
   "metadata": {},
   "outputs": [
    {
     "name": "stdout",
     "output_type": "stream",
     "text": [
      "Mean: :  14401.838215521071\n"
     ]
    }
   ],
   "source": [
    "from modules.GB import GB\n",
    "import pandas as pd\n",
    "from predictor import predictor\n",
    "import numpy as np\n",
    "\n",
    "def r2_score(y_true, y_pred):\n",
    "    mae = 1 - np.sum(np.square(y_true - y_pred)) / np.sum(np.square(y_true - np.mean(y_true))) \n",
    "    return mae\n",
    "\n",
    "def mean_absolute_error(y_true, y_pred):\n",
    "    mae = np.mean(np.abs(y_true - y_pred))\n",
    "    return mae\n",
    "\n",
    "def mean_squared_error(y_true, y_pred):\n",
    "    mse = np.mean(np.square(y_true - y_pred))\n",
    "    return mse\n",
    "\n",
    "def root_mean_square_error(y_true, y_pred):\n",
    "    mse = mean_squared_error(y_true, y_pred)\n",
    "    rmse = np.sqrt(mse)\n",
    "    return rmse\n",
    "\n",
    "OUTPUT_COL = \"charges\"\n",
    "\n",
    "L_R = 0.55\n",
    "EST = 50\n",
    "\n",
    "df = pd.read_csv(\"./csv/cleaned.csv\")\n",
    "\n",
    "df.drop(columns=\"package\", inplace=True)\n",
    "\n",
    "# Splitting data set into test and train set\n",
    "\n",
    "fold_size = int(0.2 * len(df))\n",
    "fold = int(len(df) / fold_size)\n",
    "\n",
    "train = pd.DataFrame()\n",
    "test = pd.DataFrame()\n",
    "start_i = 0\n",
    "end_i = start_i + fold_size\n",
    "test = df.loc[start_i:end_i]\n",
    "\n",
    "for kf2 in range(fold):\n",
    "    if not kf2 * fold_size in range(start_i, end_i):\n",
    "        \n",
    "        train = pd.concat([train, df.loc[kf2 * fold_size: kf2 * fold_size + fold_size - 1]], ignore_index=False, axis=0)\n",
    "\n",
    "\n",
    "print(\"Mean: : \", train[\"charges\"].mean())\n"
   ]
  },
  {
   "cell_type": "code",
   "execution_count": null,
   "id": "3bc2d790-bb21-4f55-8c84-4f1ca221aa0d",
   "metadata": {},
   "outputs": [],
   "source": [
    "# Train - Dont run this\n",
    "\n",
    "# gb_obj = GB(train, OUTPUT_COL, L_R, EST)\n",
    "\n",
    "# gb_obj.train()"
   ]
  },
  {
   "cell_type": "code",
   "execution_count": 2,
   "id": "e42f1f78-9781-439e-88b7-e4c82eb8c014",
   "metadata": {},
   "outputs": [
    {
     "name": "stdout",
     "output_type": "stream",
     "text": [
      "mse:  22879406.44534613\n",
      "rmse:  4783.242252421063\n",
      "r2_score_train:  0.9048541009291944\n",
      "r2_score_test:  0.8743121082041929\n",
      "mae:  2780.7481354625957\n"
     ]
    }
   ],
   "source": [
    "\n",
    "predicted_result = predictor(test, L_R, train[OUTPUT_COL].mean(), EST)\n",
    "predicted_result2 = predictor(train, L_R, train[OUTPUT_COL].mean(), EST)\n",
    "\n",
    "\n",
    "mse = mean_squared_error(test[\"charges\"],predicted_result[\"Predicted\"])\n",
    "rmse = root_mean_square_error(test[\"charges\"],predicted_result[\"Predicted\"])\n",
    "r2_score_train = r2_score(train[\"charges\"],predicted_result2[\"Predicted\"])\n",
    "r2_score_test = r2_score(test[\"charges\"],predicted_result[\"Predicted\"])\n",
    "mae = mean_absolute_error(test[\"charges\"],predicted_result[\"Predicted\"])\n",
    "\n",
    "\n",
    "print(\"mse: \", mse)\n",
    "print(\"rmse: \", rmse)\n",
    "print(\"r2_score_train: \", r2_score_train)\n",
    "print(\"r2_score_test: \", r2_score_test)\n",
    "print(\"mae: \", mae)\n"
   ]
  },
  {
   "cell_type": "code",
   "execution_count": null,
   "id": "d1533d27-b80b-40cf-bcb1-c474f17f21a1",
   "metadata": {},
   "outputs": [],
   "source": []
  }
 ],
 "metadata": {
  "kernelspec": {
   "display_name": "Python 3 (ipykernel)",
   "language": "python",
   "name": "python3"
  },
  "language_info": {
   "codemirror_mode": {
    "name": "ipython",
    "version": 3
   },
   "file_extension": ".py",
   "mimetype": "text/x-python",
   "name": "python",
   "nbconvert_exporter": "python",
   "pygments_lexer": "ipython3",
   "version": "3.10.12"
  }
 },
 "nbformat": 4,
 "nbformat_minor": 5
}
