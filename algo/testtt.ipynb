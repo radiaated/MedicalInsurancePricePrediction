{
 "cells": [
  {
   "cell_type": "code",
   "execution_count": 12,
   "metadata": {},
   "outputs": [
    {
     "name": "stdout",
     "output_type": "stream",
     "text": [
      "     Outlook  Temp Humidity  Windy  HoursPlayed\n",
      "0      Rainy   Hot     High  False           25\n",
      "1      Rainy   Hot     High   True           30\n",
      "2   Overcast   Hot     High  False           46\n",
      "3      Sunny  Mild     High  False           45\n",
      "4      Sunny  Cool   Normal   True           52\n",
      "5      Sunny  Cool   Normal   True           23\n",
      "6   Overcast  Cool   Normal  False           43\n",
      "7      Rainy  Mild     High  False           35\n",
      "8      Rainy  Cool   Normal  False           38\n",
      "9      Sunny  Mild   Normal  False           46\n",
      "10     Rainy  Mild   Normal   True           48\n",
      "11  Overcast  Mild     High   True           52\n",
      "12  Overcast   Hot   Normal  False           44\n",
      "13     Sunny  Mild     High   True           30\n"
     ]
    }
   ],
   "source": [
    "import pandas as pd\n",
    "\n",
    "df = pd.read_csv(\"./fake_ds.csv\")\n",
    "\n",
    "def test(dff):\n",
    "    df1 = dff.copy()\n",
    "\n",
    "    df1.drop(columns=\"HoursPlayed\", inplace=True)\n",
    "\n",
    "    print(dff)\n",
    "\n",
    "test(df)"
   ]
  },
  {
   "cell_type": "code",
   "execution_count": null,
   "metadata": {},
   "outputs": [],
   "source": []
  },
  {
   "cell_type": "code",
   "execution_count": null,
   "metadata": {},
   "outputs": [],
   "source": [
    "import pandas as pd\n",
    "\n",
    "df9 = pd.DataFrame([10,12, 6, 4])\n",
    "df10 = pd.DataFrame([5,6,3,2])"
   ]
  }
 ],
 "metadata": {
  "kernelspec": {
   "display_name": "Python 3",
   "language": "python",
   "name": "python3"
  },
  "language_info": {
   "codemirror_mode": {
    "name": "ipython",
    "version": 3
   },
   "file_extension": ".py",
   "mimetype": "text/x-python",
   "name": "python",
   "nbconvert_exporter": "python",
   "pygments_lexer": "ipython3",
   "version": "3.10.12"
  }
 },
 "nbformat": 4,
 "nbformat_minor": 2
}
